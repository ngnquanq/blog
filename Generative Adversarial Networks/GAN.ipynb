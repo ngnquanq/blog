{
 "cells": [
  {
   "cell_type": "code",
   "execution_count": 1,
   "metadata": {},
   "outputs": [
    {
     "data": {
      "text/plain": [
       "'cuda'"
      ]
     },
     "execution_count": 1,
     "metadata": {},
     "output_type": "execute_result"
    }
   ],
   "source": [
    "import torch\n",
    "from torch import nn, Tensor\n",
    "import numpy as np\n",
    "from torchvision.utils import save_image\n",
    "\n",
    "device = \"cuda\" if torch.cuda.is_available() else \"cpu\"\n",
    "device"
   ]
  },
  {
   "cell_type": "markdown",
   "metadata": {},
   "source": [
    "# 1. Dataset"
   ]
  },
  {
   "cell_type": "code",
   "execution_count": 2,
   "metadata": {},
   "outputs": [
    {
     "name": "stdout",
     "output_type": "stream",
     "text": [
      "Downloading http://yann.lecun.com/exdb/mnist/train-images-idx3-ubyte.gz\n",
      "Downloading http://yann.lecun.com/exdb/mnist/train-images-idx3-ubyte.gz to ./mnist_data\\MNIST\\raw\\train-images-idx3-ubyte.gz\n"
     ]
    },
    {
     "name": "stderr",
     "output_type": "stream",
     "text": [
      "100%|██████████| 9912422/9912422 [00:03<00:00, 3241995.33it/s]\n"
     ]
    },
    {
     "name": "stdout",
     "output_type": "stream",
     "text": [
      "Extracting ./mnist_data\\MNIST\\raw\\train-images-idx3-ubyte.gz to ./mnist_data\\MNIST\\raw\n",
      "\n",
      "Downloading http://yann.lecun.com/exdb/mnist/train-labels-idx1-ubyte.gz\n",
      "Downloading http://yann.lecun.com/exdb/mnist/train-labels-idx1-ubyte.gz to ./mnist_data\\MNIST\\raw\\train-labels-idx1-ubyte.gz\n"
     ]
    },
    {
     "name": "stderr",
     "output_type": "stream",
     "text": [
      "100%|██████████| 28881/28881 [00:00<?, ?it/s]\n"
     ]
    },
    {
     "name": "stdout",
     "output_type": "stream",
     "text": [
      "Extracting ./mnist_data\\MNIST\\raw\\train-labels-idx1-ubyte.gz to ./mnist_data\\MNIST\\raw\n",
      "\n",
      "Downloading http://yann.lecun.com/exdb/mnist/t10k-images-idx3-ubyte.gz\n",
      "Downloading http://yann.lecun.com/exdb/mnist/t10k-images-idx3-ubyte.gz to ./mnist_data\\MNIST\\raw\\t10k-images-idx3-ubyte.gz\n"
     ]
    },
    {
     "name": "stderr",
     "output_type": "stream",
     "text": [
      "100%|██████████| 1648877/1648877 [00:00<00:00, 1943340.83it/s]\n"
     ]
    },
    {
     "name": "stdout",
     "output_type": "stream",
     "text": [
      "Extracting ./mnist_data\\MNIST\\raw\\t10k-images-idx3-ubyte.gz to ./mnist_data\\MNIST\\raw\n",
      "\n",
      "Downloading http://yann.lecun.com/exdb/mnist/t10k-labels-idx1-ubyte.gz\n",
      "Downloading http://yann.lecun.com/exdb/mnist/t10k-labels-idx1-ubyte.gz to ./mnist_data\\MNIST\\raw\\t10k-labels-idx1-ubyte.gz\n"
     ]
    },
    {
     "name": "stderr",
     "output_type": "stream",
     "text": [
      "100%|██████████| 4542/4542 [00:00<?, ?it/s]"
     ]
    },
    {
     "name": "stdout",
     "output_type": "stream",
     "text": [
      "Extracting ./mnist_data\\MNIST\\raw\\t10k-labels-idx1-ubyte.gz to ./mnist_data\\MNIST\\raw\n",
      "\n"
     ]
    },
    {
     "name": "stderr",
     "output_type": "stream",
     "text": [
      "\n"
     ]
    }
   ],
   "source": [
    "import torchvision\n",
    "\n",
    "img_size = 28\n",
    "    \n",
    "transform = torchvision.transforms.Compose([\n",
    "    torchvision.transforms.Resize((img_size, img_size)),\n",
    "    torchvision.transforms.ToTensor(),\n",
    "    torchvision.transforms.Normalize(mean=[0.5], std=[0.5])\n",
    "])\n",
    "\n",
    "images = torchvision.datasets.MNIST(root='./mnist_data', train=True, \n",
    "                                    download=True, transform=transform)"
   ]
  },
  {
   "cell_type": "code",
   "execution_count": 3,
   "metadata": {},
   "outputs": [],
   "source": [
    "BATCH_SIZE = 64\n",
    "dataloader = torch.utils.data.DataLoader(images, batch_size=BATCH_SIZE, shuffle=True)"
   ]
  },
  {
   "cell_type": "markdown",
   "metadata": {},
   "source": [
    "# 2. Model"
   ]
  },
  {
   "cell_type": "code",
   "execution_count": 4,
   "metadata": {},
   "outputs": [],
   "source": [
    "channels = 1\n",
    "img_shape = (channels, img_size, img_size)\n",
    "latent_dim = 100"
   ]
  },
  {
   "cell_type": "code",
   "execution_count": 5,
   "metadata": {},
   "outputs": [],
   "source": [
    "class Generator(nn.Module):\n",
    "    def __init__(self):\n",
    "        super().__init__()\n",
    "        self.model = nn.Sequential(\n",
    "            nn.Linear(latent_dim, 256),\n",
    "            nn.BatchNorm1d(256,),\n",
    "            nn.LeakyReLU(0.2, inplace=True),\n",
    "\n",
    "            nn.Linear(256, 512),\n",
    "            nn.BatchNorm1d(512),\n",
    "            nn.LeakyReLU(0.2, inplace=True),\n",
    "\n",
    "            nn.Linear(512, 1024),\n",
    "            nn.BatchNorm1d(1024),\n",
    "            nn.LeakyReLU(0.2, inplace=True),\n",
    "        \n",
    "            nn.Linear(1024, int(np.prod(img_shape))),\n",
    "            nn.Tanh()\n",
    "        )\n",
    "        \n",
    "    def forward(self, z):\n",
    "        img = self.model(z)\n",
    "        img = img.view(img.size(0), *img_shape)\n",
    "        return img"
   ]
  },
  {
   "cell_type": "code",
   "execution_count": 6,
   "metadata": {},
   "outputs": [],
   "source": [
    "class Descriminator(nn.Module):\n",
    "    def __init__(self):\n",
    "        super().__init__()\n",
    "        self.model = nn.Sequential(\n",
    "            nn.Linear(int(np.prod(img_shape)), 512),\n",
    "            nn.LeakyReLU(0.2, inplace=True),\n",
    "\n",
    "            nn.Linear(512, 256),\n",
    "            nn.LeakyReLU(0.2, inplace=True),\n",
    "            \n",
    "            nn.Linear(256, 1),\n",
    "            nn.Sigmoid()\n",
    "        )\n",
    "        \n",
    "    def forward(self, img):\n",
    "        img_flat = img.view(img.size(0), -1)\n",
    "        validity = self.model(img_flat)\n",
    "        return validity"
   ]
  },
  {
   "cell_type": "code",
   "execution_count": 7,
   "metadata": {},
   "outputs": [],
   "source": [
    "generator = Generator()\n",
    "discriminator = Descriminator()"
   ]
  },
  {
   "cell_type": "code",
   "execution_count": 8,
   "metadata": {},
   "outputs": [
    {
     "data": {
      "text/plain": [
       "Generator(\n",
       "  (model): Sequential(\n",
       "    (0): Linear(in_features=100, out_features=256, bias=True)\n",
       "    (1): BatchNorm1d(256, eps=1e-05, momentum=0.1, affine=True, track_running_stats=True)\n",
       "    (2): LeakyReLU(negative_slope=0.2, inplace=True)\n",
       "    (3): Linear(in_features=256, out_features=512, bias=True)\n",
       "    (4): BatchNorm1d(512, eps=1e-05, momentum=0.1, affine=True, track_running_stats=True)\n",
       "    (5): LeakyReLU(negative_slope=0.2, inplace=True)\n",
       "    (6): Linear(in_features=512, out_features=1024, bias=True)\n",
       "    (7): BatchNorm1d(1024, eps=1e-05, momentum=0.1, affine=True, track_running_stats=True)\n",
       "    (8): LeakyReLU(negative_slope=0.2, inplace=True)\n",
       "    (9): Linear(in_features=1024, out_features=784, bias=True)\n",
       "    (10): Tanh()\n",
       "  )\n",
       ")"
      ]
     },
     "execution_count": 8,
     "metadata": {},
     "output_type": "execute_result"
    }
   ],
   "source": [
    "generator.to(device)"
   ]
  },
  {
   "cell_type": "code",
   "execution_count": 9,
   "metadata": {},
   "outputs": [
    {
     "data": {
      "text/plain": [
       "Descriminator(\n",
       "  (model): Sequential(\n",
       "    (0): Linear(in_features=784, out_features=512, bias=True)\n",
       "    (1): LeakyReLU(negative_slope=0.2, inplace=True)\n",
       "    (2): Linear(in_features=512, out_features=256, bias=True)\n",
       "    (3): LeakyReLU(negative_slope=0.2, inplace=True)\n",
       "    (4): Linear(in_features=256, out_features=1, bias=True)\n",
       "    (5): Sigmoid()\n",
       "  )\n",
       ")"
      ]
     },
     "execution_count": 9,
     "metadata": {},
     "output_type": "execute_result"
    }
   ],
   "source": [
    "discriminator.to(device)"
   ]
  },
  {
   "cell_type": "markdown",
   "metadata": {},
   "source": [
    "# 3. Training"
   ]
  },
  {
   "cell_type": "code",
   "execution_count": 11,
   "metadata": {},
   "outputs": [],
   "source": [
    "import os\n",
    "os.makedirs(\"images\", exist_ok=True)\n",
    "\n",
    "save_interval = 10"
   ]
  },
  {
   "cell_type": "markdown",
   "metadata": {},
   "source": [
    "By paper, train the discriminator for k step"
   ]
  },
  {
   "cell_type": "code",
   "execution_count": 13,
   "metadata": {},
   "outputs": [
    {
     "name": "stdout",
     "output_type": "stream",
     "text": [
      "Epoch [1/200], Train G Loss: 8.6671, Train D Loss: 0.0504\n",
      "Epoch [2/200], Train G Loss: 9.1049, Train D Loss: 0.0585\n",
      "Epoch [3/200], Train G Loss: 7.9899, Train D Loss: 0.1025\n",
      "Epoch [4/200], Train G Loss: 7.6208, Train D Loss: 0.1436\n",
      "Epoch [5/200], Train G Loss: 7.2598, Train D Loss: 0.1519\n",
      "Epoch [6/200], Train G Loss: 6.2519, Train D Loss: 0.2173\n",
      "Epoch [7/200], Train G Loss: 6.0503, Train D Loss: 0.2565\n",
      "Epoch [8/200], Train G Loss: 5.6046, Train D Loss: 0.2855\n",
      "Epoch [9/200], Train G Loss: 5.1614, Train D Loss: 0.3257\n",
      "Epoch [10/200], Train G Loss: 4.8598, Train D Loss: 0.3713\n",
      "Epoch [11/200], Train G Loss: 4.4238, Train D Loss: 0.4428\n",
      "Epoch [12/200], Train G Loss: 3.9640, Train D Loss: 0.4871\n",
      "Epoch [13/200], Train G Loss: 3.9199, Train D Loss: 0.5103\n",
      "Epoch [14/200], Train G Loss: 3.5740, Train D Loss: 0.5878\n",
      "Epoch [15/200], Train G Loss: 3.2897, Train D Loss: 0.6271\n",
      "Epoch [16/200], Train G Loss: 3.0583, Train D Loss: 0.6905\n",
      "Epoch [17/200], Train G Loss: 2.9903, Train D Loss: 0.7002\n",
      "Epoch [18/200], Train G Loss: 2.8803, Train D Loss: 0.7474\n",
      "Epoch [19/200], Train G Loss: 2.6880, Train D Loss: 0.8016\n",
      "Epoch [20/200], Train G Loss: 2.6678, Train D Loss: 0.8039\n",
      "Epoch [21/200], Train G Loss: 2.6044, Train D Loss: 0.8373\n",
      "Epoch [22/200], Train G Loss: 2.5247, Train D Loss: 0.8556\n",
      "Epoch [23/200], Train G Loss: 2.5117, Train D Loss: 0.8593\n",
      "Epoch [24/200], Train G Loss: 2.4349, Train D Loss: 0.8892\n",
      "Epoch [25/200], Train G Loss: 2.4177, Train D Loss: 0.9040\n",
      "Epoch [26/200], Train G Loss: 2.4199, Train D Loss: 0.9002\n",
      "Epoch [27/200], Train G Loss: 2.3793, Train D Loss: 0.9225\n",
      "Epoch [28/200], Train G Loss: 2.3180, Train D Loss: 0.9530\n",
      "Epoch [29/200], Train G Loss: 2.2884, Train D Loss: 0.9613\n",
      "Epoch [30/200], Train G Loss: 2.2830, Train D Loss: 0.9611\n",
      "Epoch [31/200], Train G Loss: 2.2660, Train D Loss: 0.9761\n",
      "Epoch [32/200], Train G Loss: 2.2586, Train D Loss: 0.9831\n",
      "Epoch [33/200], Train G Loss: 2.2139, Train D Loss: 0.9981\n",
      "Epoch [34/200], Train G Loss: 2.2100, Train D Loss: 0.9979\n",
      "Epoch [35/200], Train G Loss: 2.2149, Train D Loss: 1.0055\n",
      "Epoch [36/200], Train G Loss: 2.1618, Train D Loss: 1.0157\n",
      "Epoch [37/200], Train G Loss: 2.1285, Train D Loss: 1.0420\n",
      "Epoch [38/200], Train G Loss: 2.1360, Train D Loss: 1.0381\n",
      "Epoch [39/200], Train G Loss: 2.1224, Train D Loss: 1.0440\n",
      "Epoch [40/200], Train G Loss: 2.1291, Train D Loss: 1.0415\n",
      "Epoch [41/200], Train G Loss: 2.1268, Train D Loss: 1.0448\n",
      "Epoch [42/200], Train G Loss: 2.1009, Train D Loss: 1.0675\n",
      "Epoch [43/200], Train G Loss: 2.0818, Train D Loss: 1.0647\n",
      "Epoch [44/200], Train G Loss: 2.0549, Train D Loss: 1.0766\n",
      "Epoch [45/200], Train G Loss: 2.0548, Train D Loss: 1.0815\n",
      "Epoch [46/200], Train G Loss: 2.0307, Train D Loss: 1.0873\n",
      "Epoch [47/200], Train G Loss: 2.0002, Train D Loss: 1.1038\n",
      "Epoch [48/200], Train G Loss: 2.0107, Train D Loss: 1.0882\n",
      "Epoch [49/200], Train G Loss: 2.0108, Train D Loss: 1.0900\n",
      "Epoch [50/200], Train G Loss: 2.0059, Train D Loss: 1.0998\n",
      "Epoch [51/200], Train G Loss: 2.0152, Train D Loss: 1.0921\n",
      "Epoch [52/200], Train G Loss: 2.0060, Train D Loss: 1.0979\n",
      "Epoch [53/200], Train G Loss: 1.9542, Train D Loss: 1.1191\n",
      "Epoch [54/200], Train G Loss: 1.9542, Train D Loss: 1.1143\n",
      "Epoch [55/200], Train G Loss: 1.9316, Train D Loss: 1.1350\n",
      "Epoch [56/200], Train G Loss: 1.9508, Train D Loss: 1.1137\n",
      "Epoch [57/200], Train G Loss: 1.9259, Train D Loss: 1.1259\n",
      "Epoch [58/200], Train G Loss: 1.9488, Train D Loss: 1.1159\n",
      "Epoch [59/200], Train G Loss: 1.9457, Train D Loss: 1.1287\n",
      "Epoch [60/200], Train G Loss: 1.9500, Train D Loss: 1.1232\n",
      "Epoch [61/200], Train G Loss: 1.9086, Train D Loss: 1.1335\n"
     ]
    },
    {
     "ename": "KeyboardInterrupt",
     "evalue": "",
     "output_type": "error",
     "traceback": [
      "\u001b[1;31m---------------------------------------------------------------------------\u001b[0m",
      "\u001b[1;31mKeyboardInterrupt\u001b[0m                         Traceback (most recent call last)",
      "Input \u001b[1;32mIn [13]\u001b[0m, in \u001b[0;36m<cell line: 15>\u001b[1;34m()\u001b[0m\n\u001b[0;32m     33\u001b[0m G_loss \u001b[38;5;241m=\u001b[39m criterion(discriminator(gen_imgs), real_labels)\n\u001b[0;32m     34\u001b[0m running_G_loss \u001b[38;5;241m+\u001b[39m\u001b[38;5;241m=\u001b[39m G_loss\u001b[38;5;241m.\u001b[39mitem()\n\u001b[1;32m---> 36\u001b[0m \u001b[43mG_loss\u001b[49m\u001b[38;5;241;43m.\u001b[39;49m\u001b[43mbackward\u001b[49m\u001b[43m(\u001b[49m\u001b[43m)\u001b[49m\n\u001b[0;32m     37\u001b[0m optimizer_G\u001b[38;5;241m.\u001b[39mstep()\n\u001b[0;32m     39\u001b[0m \u001b[38;5;66;03m# --- Train Discriminator ---\u001b[39;00m\n",
      "File \u001b[1;32mc:\\Users\\84898\\pyver\\py3100\\lib\\site-packages\\torch\\_tensor.py:492\u001b[0m, in \u001b[0;36mTensor.backward\u001b[1;34m(self, gradient, retain_graph, create_graph, inputs)\u001b[0m\n\u001b[0;32m    482\u001b[0m \u001b[38;5;28;01mif\u001b[39;00m has_torch_function_unary(\u001b[38;5;28mself\u001b[39m):\n\u001b[0;32m    483\u001b[0m     \u001b[38;5;28;01mreturn\u001b[39;00m handle_torch_function(\n\u001b[0;32m    484\u001b[0m         Tensor\u001b[38;5;241m.\u001b[39mbackward,\n\u001b[0;32m    485\u001b[0m         (\u001b[38;5;28mself\u001b[39m,),\n\u001b[1;32m   (...)\u001b[0m\n\u001b[0;32m    490\u001b[0m         inputs\u001b[38;5;241m=\u001b[39minputs,\n\u001b[0;32m    491\u001b[0m     )\n\u001b[1;32m--> 492\u001b[0m \u001b[43mtorch\u001b[49m\u001b[38;5;241;43m.\u001b[39;49m\u001b[43mautograd\u001b[49m\u001b[38;5;241;43m.\u001b[39;49m\u001b[43mbackward\u001b[49m\u001b[43m(\u001b[49m\n\u001b[0;32m    493\u001b[0m \u001b[43m    \u001b[49m\u001b[38;5;28;43mself\u001b[39;49m\u001b[43m,\u001b[49m\u001b[43m \u001b[49m\u001b[43mgradient\u001b[49m\u001b[43m,\u001b[49m\u001b[43m \u001b[49m\u001b[43mretain_graph\u001b[49m\u001b[43m,\u001b[49m\u001b[43m \u001b[49m\u001b[43mcreate_graph\u001b[49m\u001b[43m,\u001b[49m\u001b[43m \u001b[49m\u001b[43minputs\u001b[49m\u001b[38;5;241;43m=\u001b[39;49m\u001b[43minputs\u001b[49m\n\u001b[0;32m    494\u001b[0m \u001b[43m\u001b[49m\u001b[43m)\u001b[49m\n",
      "File \u001b[1;32mc:\\Users\\84898\\pyver\\py3100\\lib\\site-packages\\torch\\autograd\\__init__.py:251\u001b[0m, in \u001b[0;36mbackward\u001b[1;34m(tensors, grad_tensors, retain_graph, create_graph, grad_variables, inputs)\u001b[0m\n\u001b[0;32m    246\u001b[0m     retain_graph \u001b[38;5;241m=\u001b[39m create_graph\n\u001b[0;32m    248\u001b[0m \u001b[38;5;66;03m# The reason we repeat the same comment below is that\u001b[39;00m\n\u001b[0;32m    249\u001b[0m \u001b[38;5;66;03m# some Python versions print out the first line of a multi-line function\u001b[39;00m\n\u001b[0;32m    250\u001b[0m \u001b[38;5;66;03m# calls in the traceback and some print out the last line\u001b[39;00m\n\u001b[1;32m--> 251\u001b[0m \u001b[43mVariable\u001b[49m\u001b[38;5;241;43m.\u001b[39;49m\u001b[43m_execution_engine\u001b[49m\u001b[38;5;241;43m.\u001b[39;49m\u001b[43mrun_backward\u001b[49m\u001b[43m(\u001b[49m\u001b[43m  \u001b[49m\u001b[38;5;66;43;03m# Calls into the C++ engine to run the backward pass\u001b[39;49;00m\n\u001b[0;32m    252\u001b[0m \u001b[43m    \u001b[49m\u001b[43mtensors\u001b[49m\u001b[43m,\u001b[49m\n\u001b[0;32m    253\u001b[0m \u001b[43m    \u001b[49m\u001b[43mgrad_tensors_\u001b[49m\u001b[43m,\u001b[49m\n\u001b[0;32m    254\u001b[0m \u001b[43m    \u001b[49m\u001b[43mretain_graph\u001b[49m\u001b[43m,\u001b[49m\n\u001b[0;32m    255\u001b[0m \u001b[43m    \u001b[49m\u001b[43mcreate_graph\u001b[49m\u001b[43m,\u001b[49m\n\u001b[0;32m    256\u001b[0m \u001b[43m    \u001b[49m\u001b[43minputs\u001b[49m\u001b[43m,\u001b[49m\n\u001b[0;32m    257\u001b[0m \u001b[43m    \u001b[49m\u001b[43mallow_unreachable\u001b[49m\u001b[38;5;241;43m=\u001b[39;49m\u001b[38;5;28;43;01mTrue\u001b[39;49;00m\u001b[43m,\u001b[49m\n\u001b[0;32m    258\u001b[0m \u001b[43m    \u001b[49m\u001b[43maccumulate_grad\u001b[49m\u001b[38;5;241;43m=\u001b[39;49m\u001b[38;5;28;43;01mTrue\u001b[39;49;00m\u001b[43m,\u001b[49m\n\u001b[0;32m    259\u001b[0m \u001b[43m\u001b[49m\u001b[43m)\u001b[49m\n",
      "\u001b[1;31mKeyboardInterrupt\u001b[0m: "
     ]
    }
   ],
   "source": [
    "EPOCHS = 200\n",
    "K = 3\n",
    "\n",
    "optimizer_G = torch.optim.Adam(generator.parameters(), lr=0.0001)\n",
    "optimizer_D = torch.optim.Adam(discriminator.parameters(), lr=0.0002)\n",
    "\n",
    "criterion = nn.BCELoss()\n",
    "\n",
    "hist = {\n",
    "        \"train_G_loss\": [],\n",
    "        \"train_D_loss\": [],\n",
    "}\n",
    "\n",
    "for epoch in range(EPOCHS):\n",
    "    running_G_loss = 0.0\n",
    "    running_D_loss = 0.0\n",
    "\n",
    "    for i, (imgs, _) in enumerate(dataloader):\n",
    "\n",
    "        real_imgs = imgs.to(device)\n",
    "        real_labels = torch.ones(imgs.shape[0], 1).to(device)\n",
    "        fake_labels = torch.zeros(imgs.shape[0], 1).to(device)\n",
    "\n",
    "        # Noise input for Generator\n",
    "        #z = torch.randn((imgs.shape[0], latent_dim)).to(device)\n",
    "\n",
    "        # --- Train Discriminator ---\n",
    "        for step in range(K):\n",
    "            optimizer_D.zero_grad()\n",
    "            # Generate a batch of images\n",
    "            z = torch.randn(imgs.shape[0], latent_dim).to(device)\n",
    "            fake_imgs = generator(z)\n",
    "            # Real images\n",
    "            real_loss = criterion(discriminator(real_imgs), real_labels)\n",
    "            # Fake images\n",
    "            fake_loss = criterion(discriminator(fake_imgs), fake_labels)\n",
    "            # Total loss\n",
    "            D_loss = (real_loss + fake_loss) / 2\n",
    "            if step==K-1:\n",
    "              running_D_loss += D_loss.item()\n",
    "            else:\n",
    "              continue\n",
    "            D_loss.backward()\n",
    "            optimizer_D.step()\n",
    "        \n",
    "        # --- Train Generator --- \n",
    "        optimizer_G.zero_grad()\n",
    "    \n",
    "        fake_imgs = generator(z)\n",
    "        G_loss = criterion(discriminator(fake_imgs), real_labels)\n",
    "        running_G_loss += G_loss.item()\n",
    "\n",
    "        G_loss.backward()\n",
    "        optimizer_G.step()\n",
    "\n",
    "    \n",
    "    epoch_G_loss = running_G_loss / len(dataloader)\n",
    "    epoch_D_loss = running_D_loss / len(dataloader)\n",
    "    \n",
    "    print(f\"Epoch [{epoch + 1}/{EPOCHS}], Train G Loss: {epoch_G_loss:.4f}, Train D Loss: {epoch_D_loss:.4f}\")\n",
    "\n",
    "    hist[\"train_G_loss\"].append(epoch_G_loss)\n",
    "    hist[\"train_D_loss\"].append(epoch_D_loss)\n",
    "\n",
    "    if epoch % save_interval == 0:\n",
    "        save_image(fake_imgs.data[:25], f\"images/epoch_{epoch}.png\", nrow=5, normalize=True)"
   ]
  },
  {
   "cell_type": "code",
   "execution_count": 14,
   "metadata": {},
   "outputs": [
    {
     "name": "stdout",
     "output_type": "stream",
     "text": [
      "tensor([[0.3476],\n",
      "        [0.0695],\n",
      "        [0.1058],\n",
      "        [0.1805],\n",
      "        [0.5108],\n",
      "        [0.0739],\n",
      "        [0.4686],\n",
      "        [0.0064],\n",
      "        [0.0179],\n",
      "        [0.3547],\n",
      "        [0.1577],\n",
      "        [0.2178],\n",
      "        [0.1166],\n",
      "        [0.0928],\n",
      "        [0.1436],\n",
      "        [0.0513],\n",
      "        [0.0093],\n",
      "        [0.0790],\n",
      "        [0.2490],\n",
      "        [0.1280],\n",
      "        [0.1172],\n",
      "        [0.0832],\n",
      "        [0.0013],\n",
      "        [0.4378],\n",
      "        [0.2720],\n",
      "        [0.0383],\n",
      "        [0.0795],\n",
      "        [0.1783],\n",
      "        [0.0216],\n",
      "        [0.0068],\n",
      "        [0.2043],\n",
      "        [0.2686]], device='cuda:0', grad_fn=<SigmoidBackward0>)\n"
     ]
    }
   ],
   "source": [
    "# Text the equlibrium\n",
    "z = torch.randn(32,latent_dim).to(device)\n",
    "g_z = generator(z)\n",
    "real_labels = torch.ones(imgs.shape[0], 1).to(device)\n",
    "logit = discriminator(g_z)\n",
    "print(logit)"
   ]
  },
  {
   "cell_type": "code",
   "execution_count": null,
   "metadata": {},
   "outputs": [],
   "source": [
    "EPOCHS = 200\n",
    "\n",
    "\n",
    "\n",
    "optimizer_G = torch.optim.Adam(generator.parameters(), lr=0.0001)\n",
    "optimizer_D = torch.optim.Adam(discriminator.parameters(), lr=0.0002)\n",
    "\n",
    "criterion = nn.BCELoss()\n",
    "\n",
    "hist = {\n",
    "        \"train_G_loss\": [],\n",
    "        \"train_D_loss\": [],\n",
    "}\n",
    "\n",
    "for epoch in range(EPOCHS):\n",
    "    running_G_loss = 0.0\n",
    "    running_D_loss = 0.0\n",
    "\n",
    "    for i, (imgs, _) in enumerate(dataloader):\n",
    "\n",
    "        real_imgs = imgs.to(device)\n",
    "        real_labels = torch.ones(imgs.shape[0], 1).to(device)\n",
    "        fake_labels = torch.zeros(imgs.shape[0], 1).to(device)\n",
    "\n",
    "        # --- Train Generator --- \n",
    "        optimizer_G.zero_grad()\n",
    "        \n",
    "        # Noise input for Generator\n",
    "        z = torch.randn((imgs.shape[0], latent_dim)).to(device)\n",
    "\n",
    "        gen_imgs = generator(z)\n",
    "        G_loss = criterion(discriminator(gen_imgs), real_labels)\n",
    "        running_G_loss += G_loss.item()\n",
    "\n",
    "        G_loss.backward()\n",
    "        optimizer_G.step()\n",
    "\n",
    "        # --- Train Discriminator --- \n",
    "        optimizer_D.zero_grad()\n",
    "        real_loss = criterion(discriminator(real_imgs), real_labels)\n",
    "        fake_loss = criterion(discriminator(gen_imgs.detach()), fake_labels)\n",
    "        D_loss = (real_loss + fake_loss) / 2\n",
    "        running_D_loss += D_loss.item()\n",
    "\n",
    "        D_loss.backward()\n",
    "        optimizer_D.step()\n",
    "    \n",
    "    epoch_G_loss = running_G_loss / len(dataloader)\n",
    "    epoch_D_loss = running_D_loss / len(dataloader)\n",
    "    \n",
    "    print(f\"Epoch [{epoch + 1}/{EPOCHS}], Train G Loss: {epoch_G_loss:.4f}, Train D Loss: {epoch_D_loss:.4f}\")\n",
    "\n",
    "    hist[\"train_G_loss\"].append(epoch_G_loss)\n",
    "    hist[\"train_D_loss\"].append(epoch_D_loss)\n",
    "\n",
    "    if epoch % save_interval == 0:\n",
    "        save_image(gen_imgs.data[:25], f\"images/epoch_{epoch}.png\", nrow=5, normalize=True)"
   ]
  }
 ],
 "metadata": {
  "kernelspec": {
   "display_name": "Python 3 (ipykernel)",
   "language": "python",
   "name": "python3"
  },
  "language_info": {
   "codemirror_mode": {
    "name": "ipython",
    "version": 3
   },
   "file_extension": ".py",
   "mimetype": "text/x-python",
   "name": "python",
   "nbconvert_exporter": "python",
   "pygments_lexer": "ipython3",
   "version": "3.10.0"
  }
 },
 "nbformat": 4,
 "nbformat_minor": 4
}
